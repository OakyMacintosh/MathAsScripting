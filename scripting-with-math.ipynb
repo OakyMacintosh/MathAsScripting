{
 "cells": [
  {
   "cell_type": "code",
   "execution_count": 2,
   "id": "0bd97e4d-a393-43d7-9e80-ee65d12868e2",
   "metadata": {},
   "outputs": [
    {
     "ename": "ModuleNotFoundError",
     "evalue": "No module named 'mathplot'",
     "output_type": "error",
     "traceback": [
      "\u001b[31m---------------------------------------------------------------------------\u001b[39m",
      "\u001b[31mModuleNotFoundError\u001b[39m                       Traceback (most recent call last)",
      "\u001b[36mCell\u001b[39m\u001b[36m \u001b[39m\u001b[32mIn[2]\u001b[39m\u001b[32m, line 2\u001b[39m\n\u001b[32m      1\u001b[39m \u001b[38;5;28;01mfrom\u001b[39;00m\u001b[38;5;250m \u001b[39m\u001b[34;01moperator\u001b[39;00m\u001b[38;5;250m \u001b[39m\u001b[38;5;28;01mimport\u001b[39;00m __not__\n\u001b[32m----> \u001b[39m\u001b[32m2\u001b[39m \u001b[38;5;28;01mimport\u001b[39;00m\u001b[38;5;250m \u001b[39m\u001b[34;01mmathplot\u001b[39;00m\u001b[38;5;250m \u001b[39m\u001b[38;5;28;01mas\u001b[39;00m\u001b[38;5;250m \u001b[39m\u001b[34;01mplt\u001b[39;00m\n\u001b[32m      3\u001b[39m \u001b[38;5;28;01mfrom\u001b[39;00m\u001b[38;5;250m \u001b[39m\u001b[34;01mmathscript\u001b[39;00m\u001b[38;5;250m \u001b[39m\u001b[38;5;28;01mimport\u001b[39;00m esolang\n\u001b[32m      5\u001b[39m scalc = esolang(\u001b[34m__init__\u001b[39m)\n",
      "\u001b[31mModuleNotFoundError\u001b[39m: No module named 'mathplot'"
     ]
    }
   ],
   "source": [
    "from operator import __not__\n",
    "import mathplot as plt\n",
    "from mathscript import esolang\n",
    "\n",
    "scalc = esolang(__init__)\n",
    "\n",
    "def main():\n",
    "    code = scalc.code(\"\"\"\n",
    "        #lang 'en'\n",
    "\n",
    "        # map the ascii characters\n",
    "        h = expr(7.2&.&10^1);\n",
    "        e = expr(1.00010&.&10^8)\n",
    "        l = expr(1.0011&.&10^6)\n",
    "        o = expr(7.2&.&10^1^2)\n",
    "\n",
    "        f(get h, e, l, o):\n",
    "            for \\n in 5:\n",
    "                show(h)\n",
    "                show(e)\n",
    "                show(l) in 2^1\n",
    "                show(o) \n",
    "               \"\"\")\n",
    "    scalc.init(code)\n",
    "\n",
    "    if __name__ == \"__main__\":\n",
    "        main()"
   ]
  }
 ],
 "metadata": {
  "kernelspec": {
   "display_name": "Python 3",
   "language": "python",
   "name": "python3"
  },
  "language_info": {
   "codemirror_mode": {
    "name": "ipython",
    "version": 3
   },
   "file_extension": ".py",
   "mimetype": "text/x-python",
   "name": "python",
   "nbconvert_exporter": "python",
   "pygments_lexer": "ipython3",
   "version": "3.12.1"
  }
 },
 "nbformat": 4,
 "nbformat_minor": 5
}
